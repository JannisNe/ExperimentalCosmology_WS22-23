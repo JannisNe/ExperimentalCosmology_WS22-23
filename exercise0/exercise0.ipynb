{
 "cells": [
  {
   "cell_type": "markdown",
   "id": "efc05e18-5072-4887-ac90-bfa640c66349",
   "metadata": {},
   "source": [
    "# Finding Hubble's Law "
   ]
  },
  {
   "cell_type": "markdown",
   "id": "67f6fbe3-27d4-47a9-bea8-07cffac6e101",
   "metadata": {},
   "source": [
    "In this introduction we want to use Hubble's original observations in `hubble_velocities.csv` to measure the expansion of the universe.\n",
    "We will load the data, do a linear regresison and plot our findings."
   ]
  },
  {
   "cell_type": "markdown",
   "id": "2088b9a0-db97-447c-9d25-2e7916093283",
   "metadata": {},
   "source": [
    "First we have to import the packages we would like to use\n",
    "* `pandas` is a library implementing useful data analysis classes.\n",
    "* `numpy` is a standard python library allowing us to do operations on arrays fo data\n",
    "* `matplotlib.pyplot` is the standard library for plotting data.\n",
    "* `scipy.optimize` has some useful implementations for optimisation problems"
   ]
  },
  {
   "cell_type": "code",
   "execution_count": 2,
   "id": "13cf0598-a769-4955-9235-3b52803d03d5",
   "metadata": {
    "tags": []
   },
   "outputs": [],
   "source": [
    "import pandas as pd\n",
    "import numpy as np\n",
    "import matplotlib.pyplot as plt\n",
    "import scipy.optimize"
   ]
  },
  {
   "cell_type": "markdown",
   "id": "e14e2e3f-8d5c-4c3d-a5d9-165c0609c8cf",
   "metadata": {},
   "source": [
    "We can use `pandas` to read our data. A useful funtion is `pandas.read_csv()`: https://pandas.pydata.org/docs/reference/api/pandas.read_csv.html"
   ]
  },
  {
   "cell_type": "code",
   "execution_count": 5,
   "id": "f4251696-4bff-4028-94e9-0b682d4d2507",
   "metadata": {},
   "outputs": [
    {
     "data": {
      "text/html": [
       "<div>\n",
       "<style scoped>\n",
       "    .dataframe tbody tr th:only-of-type {\n",
       "        vertical-align: middle;\n",
       "    }\n",
       "\n",
       "    .dataframe tbody tr th {\n",
       "        vertical-align: top;\n",
       "    }\n",
       "\n",
       "    .dataframe thead th {\n",
       "        text-align: right;\n",
       "    }\n",
       "</style>\n",
       "<table border=\"1\" class=\"dataframe\">\n",
       "  <thead>\n",
       "    <tr style=\"text-align: right;\">\n",
       "      <th></th>\n",
       "      <th>distance</th>\n",
       "      <th>velocity</th>\n",
       "    </tr>\n",
       "  </thead>\n",
       "  <tbody>\n",
       "    <tr>\n",
       "      <th>0</th>\n",
       "      <td>0.023802</td>\n",
       "      <td>281.984967</td>\n",
       "    </tr>\n",
       "    <tr>\n",
       "      <th>1</th>\n",
       "      <td>0.023802</td>\n",
       "      <td>161.849353</td>\n",
       "    </tr>\n",
       "    <tr>\n",
       "      <th>2</th>\n",
       "      <td>0.205027</td>\n",
       "      <td>-132.690046</td>\n",
       "    </tr>\n",
       "    <tr>\n",
       "      <th>3</th>\n",
       "      <td>0.267683</td>\n",
       "      <td>-212.484096</td>\n",
       "    </tr>\n",
       "    <tr>\n",
       "      <th>4</th>\n",
       "      <td>0.274692</td>\n",
       "      <td>-74.053305</td>\n",
       "    </tr>\n",
       "    <tr>\n",
       "      <th>5</th>\n",
       "      <td>0.342659</td>\n",
       "      <td>-209.566028</td>\n",
       "    </tr>\n",
       "    <tr>\n",
       "      <th>6</th>\n",
       "      <td>0.448409</td>\n",
       "      <td>202.236694</td>\n",
       "    </tr>\n",
       "    <tr>\n",
       "      <th>7</th>\n",
       "      <td>0.678242</td>\n",
       "      <td>195.229692</td>\n",
       "    </tr>\n",
       "    <tr>\n",
       "      <th>8</th>\n",
       "      <td>0.789537</td>\n",
       "      <td>293.533668</td>\n",
       "    </tr>\n",
       "    <tr>\n",
       "      <th>9</th>\n",
       "      <td>0.890371</td>\n",
       "      <td>642.559828</td>\n",
       "    </tr>\n",
       "    <tr>\n",
       "      <th>10</th>\n",
       "      <td>0.890371</td>\n",
       "      <td>492.852372</td>\n",
       "    </tr>\n",
       "    <tr>\n",
       "      <th>11</th>\n",
       "      <td>0.890371</td>\n",
       "      <td>141.854755</td>\n",
       "    </tr>\n",
       "    <tr>\n",
       "      <th>12</th>\n",
       "      <td>0.891344</td>\n",
       "      <td>-41.195702</td>\n",
       "    </tr>\n",
       "    <tr>\n",
       "      <th>13</th>\n",
       "      <td>0.992320</td>\n",
       "      <td>913.747073</td>\n",
       "    </tr>\n",
       "    <tr>\n",
       "      <th>14</th>\n",
       "      <td>1.126698</td>\n",
       "      <td>457.503778</td>\n",
       "    </tr>\n",
       "    <tr>\n",
       "      <th>15</th>\n",
       "      <td>1.115775</td>\n",
       "      <td>505.734046</td>\n",
       "    </tr>\n",
       "    <tr>\n",
       "      <th>16</th>\n",
       "      <td>1.387374</td>\n",
       "      <td>492.852372</td>\n",
       "    </tr>\n",
       "    <tr>\n",
       "      <th>17</th>\n",
       "      <td>1.681593</td>\n",
       "      <td>954.688393</td>\n",
       "    </tr>\n",
       "    <tr>\n",
       "      <th>18</th>\n",
       "      <td>1.986326</td>\n",
       "      <td>1083.449128</td>\n",
       "    </tr>\n",
       "    <tr>\n",
       "      <th>19</th>\n",
       "      <td>1.982344</td>\n",
       "      <td>824.425646</td>\n",
       "    </tr>\n",
       "    <tr>\n",
       "      <th>20</th>\n",
       "      <td>1.986326</td>\n",
       "      <td>492.684350</td>\n",
       "    </tr>\n",
       "    <tr>\n",
       "      <th>21</th>\n",
       "      <td>2.026947</td>\n",
       "      <td>782.185974</td>\n",
       "    </tr>\n",
       "    <tr>\n",
       "      <th>22</th>\n",
       "      <td>0.530387</td>\n",
       "      <td>272.727273</td>\n",
       "    </tr>\n",
       "    <tr>\n",
       "      <th>23</th>\n",
       "      <td>0.497238</td>\n",
       "      <td>293.706294</td>\n",
       "    </tr>\n",
       "  </tbody>\n",
       "</table>\n",
       "</div>"
      ],
      "text/plain": [
       "    distance     velocity\n",
       "0   0.023802   281.984967\n",
       "1   0.023802   161.849353\n",
       "2   0.205027  -132.690046\n",
       "3   0.267683  -212.484096\n",
       "4   0.274692   -74.053305\n",
       "5   0.342659  -209.566028\n",
       "6   0.448409   202.236694\n",
       "7   0.678242   195.229692\n",
       "8   0.789537   293.533668\n",
       "9   0.890371   642.559828\n",
       "10  0.890371   492.852372\n",
       "11  0.890371   141.854755\n",
       "12  0.891344   -41.195702\n",
       "13  0.992320   913.747073\n",
       "14  1.126698   457.503778\n",
       "15  1.115775   505.734046\n",
       "16  1.387374   492.852372\n",
       "17  1.681593   954.688393\n",
       "18  1.986326  1083.449128\n",
       "19  1.982344   824.425646\n",
       "20  1.986326   492.684350\n",
       "21  2.026947   782.185974\n",
       "22  0.530387   272.727273\n",
       "23  0.497238   293.706294"
      ]
     },
     "execution_count": 5,
     "metadata": {},
     "output_type": "execute_result"
    }
   ],
   "source": [
    "data =  # insert your code to read the data\n",
    "data"
   ]
  },
  {
   "cell_type": "markdown",
   "id": "c1e26f42-7e9f-49b1-b47e-0fc503efb432",
   "metadata": {},
   "source": [
    "Let's have a look at the data in plot with the distance at on the x-axis and the velocities on the y-axis.\n",
    "Having created a `Figure` and `Axes` instance with `pyplot.subplots()`, you can use the `Axes.scatter()` function to draw your datapoints: https://matplotlib.org/stable/api/_as_gen/matplotlib.axes.Axes.scatter.html"
   ]
  },
  {
   "cell_type": "code",
   "execution_count": 26,
   "id": "143a2e9b-aa8e-4415-9ce7-df4c9395c5a6",
   "metadata": {},
   "outputs": [
    {
     "data": {
      "image/png": "[encoded data removed]",
      "text/plain": [
       "<Figure size 432x288 with 1 Axes>"
      ]
     },
     "metadata": {
      "needs_background": "light"
     },
     "output_type": "display_data"
    }
   ],
   "source": [
    "fig, ax = plt.subplots()\n",
    "ax.scatter()  # insert the right arguments to plot the data\n",
    "ax.set_xlabel('Distance [Mpc]')\n",
    "ax.set_ylabel('Velocity [km/s]')\n",
    "ax.legend()\n",
    "plt.show()\n",
    "plt.close()"
   ]
  },
  {
   "cell_type": "markdown",
   "id": "a495f28f-904a-4975-b079-0a1a3b637386",
   "metadata": {},
   "source": [
    "We can now try and repeat Hubble's work and fit a straight line to our data. We want to fit a function that takes the distance $x$ and gives the velocity $y$:\n",
    "$$f_{fit}(x) = a \\cdot x + b$$"
   ]
  },
  {
   "cell_type": "code",
   "execution_count": 17,
   "id": "e7d5f953-3e59-4b5b-8f2d-c0a4e86fe8f3",
   "metadata": {},
   "outputs": [],
   "source": [
    "def fitfunc(x, a, b):\n",
    "    return a*x + b"
   ]
  },
  {
   "cell_type": "markdown",
   "id": "e6ad363b-327a-43c1-a70d-36dbb0ae28d7",
   "metadata": {},
   "source": [
    "We will use scipy to determine the best fit values for $a$ and $b$. A versatile funtion to do this is `scipy.optimize.curve_fit()`: https://docs.scipy.org/doc/scipy/reference/generated/scipy.optimize.curve_fit.html"
   ]
  },
  {
   "cell_type": "code",
   "execution_count": 24,
   "id": "e2e93cf5-d7f8-4014-ae3a-76e7b924882e",
   "metadata": {},
   "outputs": [
    {
     "name": "stdout",
     "output_type": "stream",
     "text": [
      "The optimal parameters are:\n",
      " a = 450.507246101519\n",
      " b = -44.31848826963398\n"
     ]
    }
   ],
   "source": [
    "popt, pcov = scipy.optimize.curve_fit()  # insert the right arguments to fit a line to the data\n",
    "print(f\"The optimal parameters are:\\n a = {popt[0]}\\n b = {popt[1]}\")"
   ]
  },
  {
   "cell_type": "markdown",
   "id": "7bec91d3-fc9f-403b-bb1f-cdbd42d6e2ac",
   "metadata": {},
   "source": [
    "Let's plot this together with the data. To plot our fitted function we have to create some synthetic values for the x-axis. If we want them evenly spaced, `numpy.linspace()` is a good way to do this: https://numpy.org/doc/stable/reference/generated/numpy.linspace.html.\n",
    "Plotting a line when your data is ordered is commonly done with `Axes.plot()`: https://matplotlib.org/stable/api/_as_gen/matplotlib.axes.Axes.plot.html"
   ]
  },
  {
   "cell_type": "code",
   "execution_count": 28,
   "id": "593ad909-de4e-44bf-90e5-6a1d7f750d6a",
   "metadata": {},
   "outputs": [
    {
     "data": {
      "image/png": "[encoded data removed]",
      "text/plain": [
       "<Figure size 432x288 with 1 Axes>"
      ]
     },
     "metadata": {
      "needs_background": "light"
     },
     "output_type": "display_data"
    }
   ],
   "source": [
    "x_fitplot =  # insert your code to generate an array of x values\n",
    "y_fitplot =  # insert your code to generate the corresponding y values\n",
    "\n",
    "fig, ax = plt.subplots()\n",
    "ax.scatter()  # insert the right arguments to plot the data\n",
    "ax.plot()     # insert the right arguments to plot the fit\n",
    "ax.set_xlabel('Distance [Mpc]')\n",
    "ax.set_ylabel('Velocity [km/s]')\n",
    "ax.legend()\n",
    "plt.show()\n",
    "plt.close()"
   ]
  },
  {
   "cell_type": "markdown",
   "id": "e823bbcd-6931-40a4-bb44-b14ebda3eeb5",
   "metadata": {},
   "source": [
    "Now we can compare Hubble's findings to recent observations. The `astropy` module features a submodule called `cosmology` that implements cosmological models and useful functions. Among others it has the most recent results from the Planck satelite (https://arxiv.org/abs/1807.06209)"
   ]
  },
  {
   "cell_type": "code",
   "execution_count": 3,
   "id": "72e16c18-f414-435b-9131-9efa678ffea2",
   "metadata": {},
   "outputs": [],
   "source": [
    "from astropy.cosmology import Planck18"
   ]
  },
  {
   "cell_type": "markdown",
   "id": "1fc2e30a-696e-43c1-a629-903716f5fd2f",
   "metadata": {},
   "source": [
    "A quick look at the measured value for $H_0$ tells us that Hubble was a bit off."
   ]
  },
  {
   "cell_type": "code",
   "execution_count": 4,
   "id": "ada6425f-e52e-4ab3-845a-b774ce8155a6",
   "metadata": {},
   "outputs": [
    {
     "data": {
      "text/latex": [
       "$67.66 \\; \\mathrm{\\frac{km}{Mpc\\,s}}$"
      ],
      "text/plain": [
       "<Quantity 67.66 km / (Mpc s)>"
      ]
     },
     "execution_count": 4,
     "metadata": {},
     "output_type": "execute_result"
    }
   ],
   "source": [
    "Planck18.H0"
   ]
  },
  {
   "cell_type": "markdown",
   "id": "51ba8f9d-8f68-453f-aab9-a7fc08aef590",
   "metadata": {},
   "source": [
    "Sidenote in case you were wondering why this number appears so beautifully with the right units: `astropy` has a sub module `astropy.units`. If you assign a unit (e.g. metres) to a value you can easily convert it into derived units (e.g. centimetres) and also use it in calculations (e.g. $1\\,m / 1\\,s = 1\\, m/s$)"
   ]
  },
  {
   "cell_type": "code",
   "execution_count": 5,
   "id": "b08b4af4-6050-489e-b5d0-8dc2c99a0049",
   "metadata": {},
   "outputs": [],
   "source": [
    "from astropy import units as u"
   ]
  },
  {
   "cell_type": "code",
   "execution_count": 6,
   "id": "e8a29eb8-7311-416d-b8b7-3382129d77bb",
   "metadata": {},
   "outputs": [
    {
     "data": {
      "text/latex": [
       "$1 \\; \\mathrm{\\frac{m}{s}}$"
      ],
      "text/plain": [
       "<Quantity 1. m / s>"
      ]
     },
     "execution_count": 6,
     "metadata": {},
     "output_type": "execute_result"
    }
   ],
   "source": [
    "length = 1 * u.m\n",
    "time = 1 * u.s\n",
    "velocity = length / time\n",
    "velocity"
   ]
  },
  {
   "cell_type": "code",
   "execution_count": 7,
   "id": "c81b4704-55af-4c8d-b92b-14138f7d3732",
   "metadata": {},
   "outputs": [
    {
     "data": {
      "text/latex": [
       "$3.2407793 \\times 10^{-23} \\; \\mathrm{Mpc}$"
      ],
      "text/plain": [
       "<Quantity 3.24077929e-23 Mpc>"
      ]
     },
     "execution_count": 7,
     "metadata": {},
     "output_type": "execute_result"
    }
   ],
   "source": [
    "length.to('Mpc')"
   ]
  }
 ],
 "metadata": {
  "kernelspec": {
   "display_name": "Python 3 (ipykernel)",
   "language": "python",
   "name": "python3"
  },
  "language_info": {
   "codemirror_mode": {
    "name": "ipython",
    "version": 3
   },
   "file_extension": ".py",
   "mimetype": "text/x-python",
   "name": "python",
   "nbconvert_exporter": "python",
   "pygments_lexer": "ipython3",
   "version": "3.9.0"
  }
 },
 "nbformat": 4,
 "nbformat_minor": 5
}
