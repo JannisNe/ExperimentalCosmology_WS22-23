{
 "cells": [
  {
   "cell_type": "markdown",
   "id": "1039a4a1-1d4b-4a0a-a46b-190735c082ac",
   "metadata": {},
   "source": [
    "# Evolution of photon and relativistic densities"
   ]
  },
  {
   "cell_type": "code",
   "execution_count": 2,
   "id": "dbcb41e4-8222-41d2-a807-6a493cec60f3",
   "metadata": {},
   "outputs": [],
   "source": [
    "from astropy import units as u\n",
    "from astropy import constants as const\n",
    "from scipy.special import zeta\n",
    "from scipy.optimize import root\n",
    "import numpy as np\n",
    "import matplotlib.pyplot as plt"
   ]
  },
  {
   "cell_type": "code",
   "execution_count": 5,
   "id": "0aec7d1f-51fd-4f50-80d4-520d66826fd9",
   "metadata": {},
   "outputs": [],
   "source": [
    "rho_crit = 8.62e-27 * u.kg / (u.m **3)\n",
    "omega_M = 0.301\n",
    "omega_b = 0.0497\n",
    "omega_gamma = 5.51e-5"
   ]
  },
  {
   "cell_type": "markdown",
   "id": "84d60fed-0505-4614-88f2-1a5f3f0414b6",
   "metadata": {},
   "source": [
    "* Calculate the photon-to-baryon ratio $\\eta$. You can assume that the baryons consist of\n",
    "protons.\n",
    "\n",
    "First we calculate $\\rho_0 = \\Omega * \\rho_{crit}$"
   ]
  },
  {
   "cell_type": "code",
   "execution_count": 6,
   "id": "73988122-0c93-418a-99d9-3480c41efbde",
   "metadata": {},
   "outputs": [],
   "source": [
    "rho_M_0 = omega_M * rho_crit\n",
    "rho_b_0 = omega_b * rho_crit\n",
    "rho_gamma_0 = omega_gamma * rho_crit"
   ]
  },
  {
   "cell_type": "markdown",
   "id": "216f8cff-13b7-405d-bdb4-31af59b0ceb2",
   "metadata": {},
   "source": [
    "The proton density we get easily using the proton mass $m_p$: $$n_{p} = \\frac{\\rho_{b,0}}{m_p} $$."
   ]
  },
  {
   "cell_type": "code",
   "execution_count": 7,
   "id": "8cc860c1-0488-4423-b7d2-0ce01e4ae6e4",
   "metadata": {},
   "outputs": [
    {
     "data": {
      "text/latex": [
       "$0.2561332 \\; \\mathrm{\\frac{1}{m^{3}}}$"
      ],
      "text/plain": [
       "<Quantity 0.2561332 1 / m3>"
      ]
     },
     "execution_count": 7,
     "metadata": {},
     "output_type": "execute_result"
    }
   ],
   "source": [
    "n_proton = rho_b_0 / const.m_p \n",
    "n_proton"
   ]
  },
  {
   "cell_type": "markdown",
   "id": "4821038c-e290-4d18-ab3a-89910ad4fff9",
   "metadata": {},
   "source": [
    "The photon desnity we can get using the average energy of particles in a blackbody\n",
    "$$ u(T) = \\frac{\\pi^4}{15 \\cdot 2 \\zeta(3)} \\cdot k_B \\cdot T $$.\n",
    "The number density is then \n",
    "$$ n_\\gamma =  \\frac{\\rho_{\\gamma, 0}}{u(T_{CMB}) \\cdot c^{-2}}$$ with $T_{CMB} = 2.7 K$."
   ]
  },
  {
   "cell_type": "code",
   "execution_count": 5,
   "id": "003c155e-e793-4e1f-a346-5767aaa667c5",
   "metadata": {},
   "outputs": [
    {
     "data": {
      "text/latex": [
       "$4.2393572 \\times 10^{8} \\; \\mathrm{\\frac{1}{m^{3}}}$"
      ],
      "text/plain": [
       "<Quantity 4.23935723e+08 1 / m3>"
      ]
     },
     "execution_count": 5,
     "metadata": {},
     "output_type": "execute_result"
    }
   ],
   "source": [
    "def average_photon_energy(T):\n",
    "    return np.pi**4 / (15 * 2*zeta(3)) * const.k_B * T\n",
    "\n",
    "def energy_to_mass(E):\n",
    "    return E / const.c**2\n",
    "\n",
    "def average_photon_mass(T):\n",
    "    return energy_to_mass(average_photon_energy(T))\n",
    "\n",
    "T0 = 2.7 * u.K\n",
    "n_gamma = rho_gamma_0 / average_photon_mass(T0) \n",
    "n_gamma.to('m-3')"
   ]
  },
  {
   "cell_type": "markdown",
   "id": "ca806050-dd2c-4fe5-b052-9737a627f424",
   "metadata": {},
   "source": [
    "Alternatively we could use our result from exercise sheet 2:\n",
    "$$ n_\\gamma (T) = \\frac{2\\zeta(3)}{\\pi^2} \\left( \\frac{k_b}{\\hbar c} \\right)^3 T^3$$"
   ]
  },
  {
   "cell_type": "code",
   "execution_count": 6,
   "id": "2cea9567-225e-407b-a28a-062f9b0090b8",
   "metadata": {},
   "outputs": [
    {
     "data": {
      "text/latex": [
       "$3.9930599 \\times 10^{8} \\; \\mathrm{\\frac{1}{m^{3}}}$"
      ],
      "text/plain": [
       "<Quantity 3.9930599e+08 1 / m3>"
      ]
     },
     "execution_count": 6,
     "metadata": {},
     "output_type": "execute_result"
    }
   ],
   "source": [
    "def photon_number_density(T):\n",
    "    return 2*zeta(3) /np.pi**2 * (const.k_B / (const.hbar * const.c))**3 * T**3\n",
    "\n",
    "photon_number_density(T0)"
   ]
  },
  {
   "cell_type": "markdown",
   "id": "e6433e6f-60d4-4b3b-9e79-534c7b92ee1a",
   "metadata": {},
   "source": [
    "We can than calculate $\\eta = n_\\gamma / n_b = n_\\gamma / n_p$"
   ]
  },
  {
   "cell_type": "code",
   "execution_count": 7,
   "id": "292ccf2d-94b8-40f5-82b5-f0c666f2c633",
   "metadata": {},
   "outputs": [
    {
     "data": {
      "text/latex": [
       "$1.6551378 \\times 10^{9} \\; \\mathrm{}$"
      ],
      "text/plain": [
       "<Quantity 1.65513775e+09>"
      ]
     },
     "execution_count": 7,
     "metadata": {},
     "output_type": "execute_result"
    }
   ],
   "source": [
    "eta = n_gamma.to('m-3') / n_proton\n",
    "eta"
   ]
  },
  {
   "cell_type": "markdown",
   "id": "f35a30db-5a3a-40fb-8c49-61afdab0fbd2",
   "metadata": {},
   "source": [
    "* How does $\\eta$ evolve with redshift?\n",
    "\n",
    "$$\\eta = \\frac{n_\\gamma}{n_b}$$\n",
    "\n",
    "$$ n_b \\sim \\rho_b(z) \\sim (1+z)^3 $$\n",
    "\n",
    "$$ n_\\gamma \\sim T^3 \\sim (1+z)^3$$\n",
    "\n",
    "$\\rightarrow$ $\\eta$ does not evolve with redshift"
   ]
  },
  {
   "cell_type": "markdown",
   "id": "87cbf9bf-321e-474a-8176-27696cba4b7d",
   "metadata": {},
   "source": [
    "* Study the evolution of $\\rho_M$ , $\\rho_b$ and $\\rho_\\gamma$ with redshift. At which redshift would the photons come to dominate?\n",
    "\n",
    "First we define functions to calculate the densities as functions of redshift."
   ]
  },
  {
   "cell_type": "code",
   "execution_count": 8,
   "id": "e79f68d0-e795-4703-8d07-a79d85022d0e",
   "metadata": {},
   "outputs": [],
   "source": [
    "def rho_M(z):\n",
    "    return rho_M_0 * (1+z)**3\n",
    "\n",
    "def rho_b(z):\n",
    "    return rho_b_0 * (1+z)**3\n",
    "\n",
    "def rho_gamma(z):\n",
    "    return rho_gamma_0 * (1+z)**4"
   ]
  },
  {
   "cell_type": "markdown",
   "id": "c954fead-1ee3-4cc5-8ec6-08831a11f912",
   "metadata": {},
   "source": [
    "We then find the intersection of $\\rho_\\gamma$ with $\\rho_M$ and $\\rho_b$."
   ]
  },
  {
   "cell_type": "code",
   "execution_count": 9,
   "id": "e045068f-7733-49ef-8e11-601bbace9cb4",
   "metadata": {},
   "outputs": [
    {
     "name": "stdout",
     "output_type": "stream",
     "text": [
      "gamma dominates over matter at z=5461.79\n",
      "gamma dominates over baryonic matter at z=901.00\n"
     ]
    }
   ],
   "source": [
    "def rootfunc_gamma_over_M(z):\n",
    "    return rho_gamma(z) - rho_M(z)\n",
    "\n",
    "gamma_over_M = root(rootfunc_gamma_over_M, 7000).x[0]\n",
    "print(f'gamma dominates over matter at z={gamma_over_M:.2f}')\n",
    "\n",
    "def rootfunc_gamma_over_b(z):\n",
    "    return rho_gamma(z) - rho_b(z)\n",
    "\n",
    "gamma_over_b = root(rootfunc_gamma_over_b, 1000).x[0]\n",
    "print(f'gamma dominates over baryonic matter at z={gamma_over_b:.2f}')"
   ]
  },
  {
   "cell_type": "markdown",
   "id": "db1dab86-79da-4a42-bdf4-2f1d72de685f",
   "metadata": {},
   "source": [
    "Let's plot these results"
   ]
  },
  {
   "cell_type": "code",
   "execution_count": 10,
   "id": "7263f254-beac-4276-a996-1facc63d4267",
   "metadata": {},
   "outputs": [],
   "source": [
    "redshifts = np.linspace(gamma_over_b-500, gamma_over_M+500, 1000)\n",
    "\n",
    "plot_rho_M     = rho_M(redshifts)\n",
    "plot_rho_b     = rho_b(redshifts)\n",
    "plot_rho_gamma = rho_gamma(redshifts)"
   ]
  },
  {
   "cell_type": "code",
   "execution_count": 11,
   "id": "0214e2a8-7cdd-4758-b532-43a9a6d54c11",
   "metadata": {},
   "outputs": [
    {
     "data": {
      "image/png": "[encoded data removed]",
      "text/plain": [
       "<Figure size 432x288 with 1 Axes>"
      ]
     },
     "metadata": {
      "needs_background": "light"
     },
     "output_type": "display_data"
    }
   ],
   "source": [
    "fig, ax = plt.subplots()\n",
    "\n",
    "labels = [r'$\\rho_M$', r'$\\rho_b$', r'$\\rho_\\gamma$']\n",
    "rhos   = [plot_rho_M, plot_rho_b, plot_rho_gamma]\n",
    "\n",
    "for label, rho in zip(labels, rhos):\n",
    "    ax.plot(redshifts, rho, label=label)\n",
    "    \n",
    "ax.axvline(gamma_over_b, label=r'$\\rho_\\gamma = \\rho_b$', ls='-.')\n",
    "ax.axvline(gamma_over_M, label=r'$\\rho_\\gamma = \\rho_M$', ls='--')\n",
    "    \n",
    "ax.set_xlabel('redshift')\n",
    "ax.set_ylabel(r'$\\rho$')\n",
    "ax.legend(ncol=2)\n",
    "ax.set_yscale('log')\n",
    "\n",
    "plt.show()\n",
    "plt.close()"
   ]
  },
  {
   "cell_type": "markdown",
   "id": "5fcf161c-a1d0-4f76-ac83-a7ad488a8e8d",
   "metadata": {},
   "source": [
    "* We know of at least one more relativistic species, neutrinos, such that the total contribution from relativistic particles is $\\Omega_{rel} \\geq 8.24 \\cdot 10 ^{-5}$. At which redshifts did this relativistic component come to dominate over matter?"
   ]
  },
  {
   "cell_type": "code",
   "execution_count": 12,
   "id": "3f3cc9af-4ec0-48ff-860e-00e7ded93780",
   "metadata": {},
   "outputs": [
    {
     "name": "stdout",
     "output_type": "stream",
     "text": [
      "Taking neutrinos into account, relativistic particles dominate over matter at z=3651.91\n",
      "That is -1809.88 difference to photons alone.\n"
     ]
    }
   ],
   "source": [
    "omega_rel = 8.24e-5\n",
    "rho_rel_0 = omega_rel * rho_crit\n",
    "\n",
    "\n",
    "def rho_relativistic(z):\n",
    "    return rho_rel_0 * (1+z)**4\n",
    "    \n",
    "def rootfunc_rel_over_M(z):\n",
    "    return rho_relativistic(z) - rho_M(z)\n",
    "\n",
    "rel_over_M = root(rootfunc_rel_over_M, 5000).x[0]\n",
    "print(f'Taking neutrinos into account, relativistic particles dominate over matter at z={rel_over_M:.2f}')\n",
    "print(f'That is {rel_over_M - gamma_over_M:.2f} difference to photons alone.')"
   ]
  },
  {
   "cell_type": "code",
   "execution_count": null,
   "id": "9e1a7ab8-1ebf-4b27-ad9d-24ad0b91e18a",
   "metadata": {},
   "outputs": [],
   "source": []
  }
 ],
 "metadata": {
  "kernelspec": {
   "display_name": "Python 3 (ipykernel)",
   "language": "python",
   "name": "python3"
  },
  "language_info": {
   "codemirror_mode": {
    "name": "ipython",
    "version": 3
   },
   "file_extension": ".py",
   "mimetype": "text/x-python",
   "name": "python",
   "nbconvert_exporter": "python",
   "pygments_lexer": "ipython3",
   "version": "3.9.0"
  }
 },
 "nbformat": 4,
 "nbformat_minor": 5
}
