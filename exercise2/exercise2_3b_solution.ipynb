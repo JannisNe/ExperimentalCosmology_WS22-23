{
 "cells": [
  {
   "cell_type": "markdown",
   "id": "602ba436-cddb-448e-b0b4-a68729ec4748",
   "metadata": {},
   "source": [
    "# Suppose that a polar bear’s foot has a diameter of $l=0.16 m$. \n",
    "# What is the angular size $\\delta \\theta$ of the foot at an angular diameter distance of $d_A = 0.5 km$? \n",
    "The angular size is given as \n",
    "$$\n",
    "\\delta \\theta = \\frac{l}{d_A(z)}\n",
    "$$.\n",
    "\n",
    "For $d_A = 0.5 km$ we get\n",
    "$$\n",
    "\\delta \\theta = \\frac{0.16 m}{0.5 km}\n",
    "$$.\n",
    "Let's compute the actual value"
   ]
  },
  {
   "cell_type": "code",
   "execution_count": 10,
   "id": "5b191fd1-fafc-42d4-83d0-e31d31f368c1",
   "metadata": {},
   "outputs": [
    {
     "name": "stdout",
     "output_type": "stream",
     "text": [
      "delta theta = 66.00 arcsec\n"
     ]
    }
   ],
   "source": [
    "import astropy.units as u\n",
    "\n",
    "l = 0.16 * u.m\n",
    "delta_theta1 = l / (0.5 * u.km) * u.rad  # we add the radians to specify that we want to interrete theta as an angle\n",
    "print(f\"delta theta = {delta_theta1.to('arcsec'):.2f}\")"
   ]
  },
  {
   "cell_type": "markdown",
   "id": "61358183-ac54-4298-8729-99f090930513",
   "metadata": {},
   "source": [
    "# In the current best fit for ΛCDM, what is the minimum possible angular size of the polar bear’s foot?\n",
    "The minimum angular size is reached when the angular diameter distance $d_A(z)$ reaches the maximum. For a spatially flat ($\\Omega_k = 0$) universe with negligable contribution from radiation ($\\Omega_r = 0$), it can be expressed as\n",
    "$$\n",
    "d_A(z) = \\frac{c}{H_0} \\frac{1}{1+z} \\int _0 ^z \\frac{dz'}{\\sqrt{\\Omega_M (1+z')^3 + \\Omega_\\Lambda}}\n",
    "$$.\n",
    "\n",
    "We will compute this now numerically."
   ]
  },
  {
   "cell_type": "code",
   "execution_count": 1,
   "id": "ebeb1c61-2aa3-4bc6-a2a8-37bf5fc9c50f",
   "metadata": {},
   "outputs": [],
   "source": [
    "from scipy.integrate import quad\n",
    "from scipy.optimize import minimize\n",
    "from astropy.units import Quantity\n",
    "from astropy import constants\n",
    "from astropy.cosmology import Planck18 as cosmo\n",
    "import numpy as np\n",
    "import matplotlib.pyplot as plt"
   ]
  },
  {
   "cell_type": "code",
   "execution_count": 2,
   "id": "83e35b5d-815b-4426-9d6a-073d968cc34b",
   "metadata": {},
   "outputs": [],
   "source": [
    "def d_A(z, omega_m):\n",
    "    \n",
    "    def integrand(u):                                                # Here we define a function to compute the integrand\n",
    "        return 1 / np.sqrt((omega_m / (1-omega_m) * (1+u)**3) + 1)   # We call z' u here to not confuse the z from the function input with the integration vriable\n",
    "        \n",
    "    integral, e = quad(integrand, 0, z)                              # The numerical integration happens here!\n",
    "                                                                     # The first argument is the function we want to integrate\n",
    "                                                                     # The second and third arguments are the integration bounds\n",
    "                                                                     # As a result we get the integral value and an estimation of the uncertainty\n",
    "                \n",
    "    pre_f = constants.c / cosmo.H0 / (1+z) / np.sqrt(1 - omega_m)    # Here we just compute the stuff in front of the integral\n",
    "    \n",
    "    return pre_f * integral"
   ]
  },
  {
   "cell_type": "markdown",
   "id": "754baa0e-873e-40b7-9750-5f8bd6d747aa",
   "metadata": {},
   "source": [
    "Before we try to find the minimum value for the angular diameter distance, let's look at what the function looks like for different values of $\\Omega_M$ (note that of course we use $\\Omega_\\Lambda = 1- \\Omega_M$)"
   ]
  },
  {
   "cell_type": "code",
   "execution_count": 3,
   "id": "c38b4e98-51af-4ace-b468-175dbd79c75d",
   "metadata": {},
   "outputs": [],
   "source": [
    "omega_res = dict()  # Here we create an empte dictionary to store the results in\n",
    "test_z = np.linspace(0, 8, 1000)  # Here we make a range of redshift values for which we will compute d_A\n",
    "\n",
    "for omega_m in [0.1, 0.3, 0.9]:  # We loop over some values for Omega_M\n",
    "    test_dA = Quantity([d_A(iz, omega_m) for iz in test_z])  # We loop over the redshift values and compute d_A using the current value of Omega_M\n",
    "    \n",
    "    # As a bonus we want to find the redshift where d_A reaches its maximum\n",
    "    # There is not function to find the maximum of a function but we just find the minimum of -d_A\n",
    "    def min_func(z): \n",
    "        return -d_A(z, omega_m).value  # the .value is needed because d_A() returns an astropy.units.Quantity and scipy can only deal with floats\n",
    "    \n",
    "    zmax_res = minimize(min_func, x0=1)  # We use scipy.optimize.minimize, our first guess of z = 1 is rather arbitrary \n",
    "    zmax = zmax_res.x[0]  # This is where the numerical value of the best fit x-value is stored\n",
    "    \n",
    "    # Let's save our results in the dictionary\n",
    "    omega_res[omega_m] = (test_dA, zmax)"
   ]
  },
  {
   "cell_type": "code",
   "execution_count": 4,
   "id": "57a5be0b-6ac5-446a-9797-8586bd703046",
   "metadata": {},
   "outputs": [
    {
     "data": {
      "image/png": "[encoded data removed]",
      "text/plain": [
       "<Figure size 432x288 with 1 Axes>"
      ]
     },
     "metadata": {
      "needs_background": "light"
     },
     "output_type": "display_data"
    }
   ],
   "source": [
    "# Now let's plot what we have calculated\n",
    "# Note: Of course the calculation and plotting coul be done in the same loop but if you want to refine your plots\n",
    "#       you do not want to recalculate everything. It's good practice to keep them seperate.\n",
    "\n",
    "fig, ax = plt.subplots()\n",
    "unit = 'Mpc'\n",
    "\n",
    "for omega_m, (test_dA, zmax) in omega_res.items():  # We loop over our result dictionary\n",
    "    ax.plot(test_z, test_dA.to(unit).value, label=f\"$\\Omega _M$={omega_m}: \" + \"$z_{max}=$\" + f\"{zmax:.1f}\")\n",
    "    \n",
    "ax.set_xlabel('redshift')\n",
    "ax.set_ylabel(f'$d_A$ [{unit}]')\n",
    "ax.legend()\n",
    "ax.set_yscale('log')\n",
    "ax.set_ylim([900, 3000])\n",
    "\n",
    "plt.show()\n",
    "plt.close()"
   ]
  },
  {
   "cell_type": "markdown",
   "id": "838a6c29-a420-4ac2-9d11-f40317321828",
   "metadata": {},
   "source": [
    "Now let's find the solution for the best fit $\\Lambda CDM$ model."
   ]
  },
  {
   "cell_type": "code",
   "execution_count": 5,
   "id": "2bf5ae80-dc92-4f5b-bdd0-f6388a62fc8c",
   "metadata": {},
   "outputs": [
    {
     "data": {
      "text/plain": [
       "0.30966"
      ]
     },
     "execution_count": 5,
     "metadata": {},
     "output_type": "execute_result"
    }
   ],
   "source": [
    "cosmo.Om0  # This the value for Omega_M from the 2018 Planck results"
   ]
  },
  {
   "cell_type": "code",
   "execution_count": 6,
   "id": "6a502ea8-1fbd-48e0-92f9-e7dd2a71f6df",
   "metadata": {
    "tags": []
   },
   "outputs": [
    {
     "name": "stdout",
     "output_type": "stream",
     "text": [
      "The maximum of d_A is at a redshift of 1.5940715111378014\n",
      "The maximum value of d_A is 1794.6266157485657 Mpc\n",
      "For a length of 0.16 m, the minimum angular size is 5.959646035433576e-22 arcsec\n"
     ]
    }
   ],
   "source": [
    "def min_func(z): \n",
    "    return -d_A(z, cosmo.Om0).value\n",
    "\n",
    "zmax_res = minimize(min_func, 1)\n",
    "zmax = zmax_res.x[0]\n",
    "print(f\"The maximum of d_A is at a redshift of {zmax}\")\n",
    "\n",
    "dA_max = d_A(zmax, cosmo.Om0)\n",
    "print(f\"The maximum value of d_A is {dA_max.to('Mpc')}\")\n",
    "\n",
    "l = 0.16 * u.m\n",
    "dtheta_min = l.to('m') / dA_max.to('m') * u.rad\n",
    "print(f\"For a length of {l}, the minimum angular size is {dtheta_min.to('arcsec')}\")"
   ]
  },
  {
   "cell_type": "code",
   "execution_count": null,
   "id": "311c36f2-a49e-44b9-b91d-dcb96b65941e",
   "metadata": {},
   "outputs": [],
   "source": []
  }
 ],
 "metadata": {
  "kernelspec": {
   "display_name": "Python 3 (ipykernel)",
   "language": "python",
   "name": "python3"
  },
  "language_info": {
   "codemirror_mode": {
    "name": "ipython",
    "version": 3
   },
   "file_extension": ".py",
   "mimetype": "text/x-python",
   "name": "python",
   "nbconvert_exporter": "python",
   "pygments_lexer": "ipython3",
   "version": "3.9.0"
  }
 },
 "nbformat": 4,
 "nbformat_minor": 5
}
