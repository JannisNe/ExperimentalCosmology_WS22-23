{
 "cells": [
  {
   "cell_type": "markdown",
   "id": "a038601e-9ccf-4d05-83ed-50cbd7df873a",
   "metadata": {},
   "source": [
    "# Problem 1: Measuring Dark Matter"
   ]
  },
  {
   "cell_type": "code",
   "execution_count": 1,
   "id": "a9a0654a-28a6-412d-8142-0cd3d9fa0e27",
   "metadata": {},
   "outputs": [],
   "source": [
    "import pandas as pd\n",
    "import matplotlib.pyplot as plt\n",
    "import numpy as np\n",
    "from astropy import units as u\n",
    "from astropy import constants"
   ]
  },
  {
   "cell_type": "markdown",
   "id": "291c2b9a-90b9-46d7-8631-1358711766a7",
   "metadata": {},
   "source": [
    "## (a) \n",
    "The file exercise3 velocities.csv on Moodle contains velocities measured for stars in the direction of Draco, given in [km s$^{−1}$]. Extract the velocity dispersion σr from that file. What possible error could occur here? Try to deal with it."
   ]
  },
  {
   "cell_type": "code",
   "execution_count": 2,
   "id": "2e3cdcec-9c43-4ef7-8c62-c9c56ef1c0bb",
   "metadata": {},
   "outputs": [],
   "source": [
    "data = pd.read_csv(\"exercise3_velocities.csv\", index_col=0)"
   ]
  },
  {
   "cell_type": "code",
   "execution_count": 3,
   "id": "6addb056-34ee-42e3-a875-a876047a8c8d",
   "metadata": {},
   "outputs": [
    {
     "data": {
      "image/png": "[encoded data removed]",
      "text/plain": [
       "<Figure size 640x480 with 1 Axes>"
      ]
     },
     "metadata": {},
     "output_type": "display_data"
    }
   ],
   "source": [
    "plt.hist(data.velocity, bins=100)\n",
    "plt.xlabel(\"velocity [km s$^{-1}$]\")\n",
    "plt.ylabel(\"number of stars\")\n",
    "plt.show()"
   ]
  },
  {
   "cell_type": "markdown",
   "id": "8056fb51-1a3f-4142-8cea-99215dfd4795",
   "metadata": {},
   "source": [
    "It looks like there is an outlier. Maybe it's a star that does not actually belong to the Draco galaxy. Let's exclude it from the analysis."
   ]
  },
  {
   "cell_type": "code",
   "execution_count": 4,
   "id": "0b69f740-803b-4041-89ea-9bf1dd17d9ea",
   "metadata": {},
   "outputs": [
    {
     "data": {
      "image/png": "[encoded data removed]",
      "text/plain": [
       "<Figure size 640x480 with 1 Axes>"
      ]
     },
     "metadata": {},
     "output_type": "display_data"
    }
   ],
   "source": [
    "outlier_mask = data.velocity < 100\n",
    "cleaned_velocities = data.velocity[~outlier_mask]\n",
    "\n",
    "plt.hist(cleaned_velocities, bins=20)\n",
    "plt.xlabel(\"velocity [km s$^{-1}$]\")\n",
    "plt.ylabel(\"number of stars\")\n",
    "plt.show()"
   ]
  },
  {
   "cell_type": "markdown",
   "id": "6e62931b-7162-4888-b380-3f9153b0d7cf",
   "metadata": {},
   "source": [
    "The dispersion of this distribution is given by the standard deviation"
   ]
  },
  {
   "cell_type": "code",
   "execution_count": 5,
   "id": "7b6c7d3c-0a57-4dd1-9a4f-8df7ad28b2d5",
   "metadata": {},
   "outputs": [
    {
     "name": "stdout",
     "output_type": "stream",
     "text": [
      "The velocity dispersion is 10.62 km / s\n"
     ]
    }
   ],
   "source": [
    "disp = np.std(cleaned_velocities) * u.km / u.s\n",
    "print(f\"The velocity dispersion is {disp:.2f}\")"
   ]
  },
  {
   "cell_type": "markdown",
   "id": "0405eeb7-22f4-421a-9ae2-08f45598ec10",
   "metadata": {},
   "source": [
    "# (b) \n",
    "The Virial theorem to connects the mass of a system with the velocity dispersion. Are the requirements for using this theorem satisfied here?"
   ]
  },
  {
   "cell_type": "markdown",
   "id": "ce4ccd39-e8cd-495e-bad6-e68178b3609a",
   "metadata": {},
   "source": [
    "* Draco is a galaxy where we can assume thermodynamic equilibrium. Thus the virial theorem is valid."
   ]
  },
  {
   "cell_type": "markdown",
   "id": "f6de1e25-8590-4001-b14c-495ac43ad53a",
   "metadata": {},
   "source": [
    "# (c) \n",
    "Calculate the mass of the Draco galaxy from the dispersion calculated in a). What is Draco’s mass-to-light ratio?"
   ]
  },
  {
   "cell_type": "markdown",
   "id": "69508a46-7d81-45a5-8147-e8d64da6712f",
   "metadata": {},
   "source": [
    "* The virial theorem states that\n",
    "\n",
    "$ \\frac{GM}{R} \\approx \\sigma^2$\n",
    "\n",
    "The mass contained in a sphere with radius $R$ is then\n",
    "\n",
    "$ M = \\frac{R \\sigma^2}{G} $"
   ]
  },
  {
   "cell_type": "code",
   "execution_count": 17,
   "id": "6592db42-97cd-435c-9f34-993996ab3a4d",
   "metadata": {},
   "outputs": [
    {
     "name": "stdout",
     "output_type": "stream",
     "text": [
      "The virial half-mass of Draco is 6.25e+36 kg \n",
      "That is 3.14e+06 solMass\n"
     ]
    }
   ],
   "source": [
    "rh = 120 * u.pc\n",
    "halfmass = rh * disp ** 2 / constants.G\n",
    "print(\n",
    "    f\"The virial half-mass of Draco is {mass.to('kg'):.2e} \\n\"\n",
    "    f\"That is {halfmass.to('Msun'):.2e}\"\n",
    ")"
   ]
  },
  {
   "cell_type": "markdown",
   "id": "0540b691-7291-44da-a9f6-4562324243a9",
   "metadata": {},
   "source": [
    "Our sun is a fairly common star. Assuming all stars have the mass of our sun the mass-to-light ratio $MTL$ is given by \n",
    "\n",
    "$ MTL = \\frac{L }{L_{\\odot}} \\cdot \\frac{M_{\\odot}}{m} $"
   ]
  },
  {
   "cell_type": "code",
   "execution_count": 16,
   "id": "1ad6de6b-2b1f-42a0-9b42-4fff0dcf6f41",
   "metadata": {},
   "outputs": [
    {
     "name": "stdout",
     "output_type": "stream",
     "text": [
      "Draco's mass-to-light ratio is 2.86%\n"
     ]
    }
   ],
   "source": [
    "draco_lum = 1.8e5 * u.Lsun * 1/2\n",
    "mtl = draco_lum / constants.L_sun * constants.M_sun / halfmass\n",
    "print(f\"Draco's mass-to-light ratio is {mtl.to('')*100:.2f}%\")"
   ]
  },
  {
   "cell_type": "code",
   "execution_count": 19,
   "id": "dff6fc4e-83f2-4e1e-a9d7-772727018f4e",
   "metadata": {},
   "outputs": [
    {
     "data": {
      "text/latex": [
       "$1.3123505 \\times 10^{36} \\; \\mathrm{kg}$"
      ],
      "text/plain": [
       "<Quantity 1.31235051e+36 kg>"
      ]
     },
     "execution_count": 19,
     "metadata": {},
     "output_type": "execute_result"
    }
   ],
   "source": [
    "(6.6e5 * u.Msun).to('kg')"
   ]
  },
  {
   "cell_type": "code",
   "execution_count": 20,
   "id": "128e5639-8cfd-41ae-b500-d217c53a6c1d",
   "metadata": {},
   "outputs": [
    {
     "data": {
      "text/latex": [
       "$181510.58 \\; \\mathrm{\\frac{kg}{W}}$"
      ],
      "text/plain": [
       "<Quantity 181510.58466518 kg / W>"
      ]
     },
     "execution_count": 20,
     "metadata": {},
     "output_type": "execute_result"
    }
   ],
   "source": [
    "(halfmass / draco_lum).to(\"kg / W\")"
   ]
  },
  {
   "cell_type": "code",
   "execution_count": null,
   "id": "62cb8d42-bd29-4209-bbdb-d7f868093c53",
   "metadata": {},
   "outputs": [],
   "source": []
  }
 ],
 "metadata": {
  "kernelspec": {
   "display_name": "Python 3 (ipykernel)",
   "language": "python",
   "name": "python3"
  },
  "language_info": {
   "codemirror_mode": {
    "name": "ipython",
    "version": 3
   },
   "file_extension": ".py",
   "mimetype": "text/x-python",
   "name": "python",
   "nbconvert_exporter": "python",
   "pygments_lexer": "ipython3",
   "version": "3.10.6"
  }
 },
 "nbformat": 4,
 "nbformat_minor": 5
}
